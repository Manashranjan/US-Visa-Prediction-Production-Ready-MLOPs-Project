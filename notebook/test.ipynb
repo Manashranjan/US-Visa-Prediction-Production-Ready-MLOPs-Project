{
 "cells": [
  {
   "cell_type": "code",
   "execution_count": 1,
   "id": "8eb61570",
   "metadata": {},
   "outputs": [
    {
     "name": "stdout",
     "output_type": "stream",
     "text": [
      "hello\n"
     ]
    }
   ],
   "source": [
    "print('hello')"
   ]
  },
  {
   "cell_type": "code",
   "execution_count": 2,
   "id": "8cbd2474",
   "metadata": {},
   "outputs": [],
   "source": [
    "class LinearRegression:\n",
    "    def __init__(self):\n",
    "        self.weights = None\n",
    "\n",
    "    def fit(self, X, y):\n",
    "        X = np.array(X)\n",
    "        y = np.array(y)\n",
    "        X_b = np.c_[np.ones((X.shape[0], 1)), X]\n",
    "        self.weights = np.linalg.inv(X_b.T.dot(X_b)).dot(X_b.T).dot(y)\n",
    "\n",
    "    def predict(self, X):\n",
    "        X = np.array(X)\n",
    "        X_b = np.c_[np.ones((X.shape[0], 1)), X]\n",
    "        return X_b.dot(self.weights)\n",
    "    \n",
    "    def score(self, X, y):\n",
    "        y_pred = self.predict(X)\n",
    "        ss_res = np.sum((y_pred - y)**2)\n",
    "        tt_res = np.sum((y - np.mean(y))**2)\n",
    "        return 1 - (ss_res / tt_res)\n"
   ]
  },
  {
   "cell_type": "code",
   "execution_count": 3,
   "id": "f910b5dd",
   "metadata": {},
   "outputs": [],
   "source": [
    "X_train = [[1, 2], [2, 3], [4, 5], [3, 6]]\n",
    "y_train = [3, 5, 9, 8]"
   ]
  },
  {
   "cell_type": "code",
   "execution_count": 4,
   "id": "56a25bf0",
   "metadata": {},
   "outputs": [],
   "source": [
    "import numpy as np\n",
    "model = LinearRegression()\n",
    "model.fit(X_train, y_train)"
   ]
  },
  {
   "cell_type": "code",
   "execution_count": 9,
   "id": "06f88738",
   "metadata": {},
   "outputs": [
    {
     "name": "stdout",
     "output_type": "stream",
     "text": [
      "Predictions: [11.  13.5]\n"
     ]
    }
   ],
   "source": [
    "X_test = [[5, 6], [6, 8]]\n",
    "predictions = model.predict(X_test)\n",
    "print(\"Predictions:\", predictions)"
   ]
  },
  {
   "cell_type": "code",
   "execution_count": 10,
   "id": "45a78587",
   "metadata": {},
   "outputs": [
    {
     "data": {
      "text/plain": [
       "1.0"
      ]
     },
     "execution_count": 10,
     "metadata": {},
     "output_type": "execute_result"
    }
   ],
   "source": [
    "model.score(X_test, predictions)"
   ]
  },
  {
   "cell_type": "code",
   "execution_count": null,
   "id": "a2def156",
   "metadata": {},
   "outputs": [],
   "source": []
  }
 ],
 "metadata": {
  "kernelspec": {
   "display_name": "Python 3",
   "language": "python",
   "name": "python3"
  },
  "language_info": {
   "codemirror_mode": {
    "name": "ipython",
    "version": 3
   },
   "file_extension": ".py",
   "mimetype": "text/x-python",
   "name": "python",
   "nbconvert_exporter": "python",
   "pygments_lexer": "ipython3",
   "version": "3.8.20"
  }
 },
 "nbformat": 4,
 "nbformat_minor": 5
}
